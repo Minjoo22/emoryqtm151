{
 "cells": [
  {
   "attachments": {},
   "cell_type": "markdown",
   "metadata": {},
   "source": [
    "# <span style=\"color:darkblue\"> Lecture 2: Variables and Lists </span>"
   ]
  },
  {
   "attachments": {},
   "cell_type": "markdown",
   "metadata": {},
   "source": [
    "<font size=\"5\"> \n",
    "\n",
    "In the previous class we:\n",
    "- Reviewed the basic structure of Jupyter notebooks\n",
    "- Showed how to install and import libraries"
   ]
  },
  {
   "attachments": {},
   "cell_type": "markdown",
   "metadata": {},
   "source": [
    "<font size=\"5\"> \n",
    "\n",
    "In this class we will:\n",
    "\n",
    "- Introduce variables and lists\n",
    "- Compute a histogram plot\n",
    "- (Optional) Common pitfalls and understanding errors"
   ]
  },
  {
   "attachments": {},
   "cell_type": "markdown",
   "metadata": {},
   "source": [
    "# <span style=\"color:darkblue\"> Import Libraries </span>"
   ]
  },
  {
   "cell_type": "code",
<<<<<<< HEAD
   "execution_count": 20,
=======
   "execution_count": 21,
>>>>>>> upstream/main
   "metadata": {},
   "outputs": [],
   "source": [
    "# The matplotlib library is used to create graphs\n",
    "\n",
    "import matplotlib.pyplot as plt"
   ]
  },
  {
   "attachments": {},
   "cell_type": "markdown",
   "metadata": {},
   "source": [
    "## "
   ]
  },
  {
   "attachments": {},
   "cell_type": "markdown",
   "metadata": {},
   "source": [
    "# <span style=\"color:darkblue\"> Variables and Data Types </span>"
   ]
  },
  {
   "attachments": {},
   "cell_type": "markdown",
   "metadata": {},
   "source": [
    "<font size=\"5\"> \n",
    "\n",
    "Identify the type of object\n",
    "- Integers, Floats (numbers with decimals) or strings (text)\n",
    "- Type is a function, with an argument in parenthesis (...)"
   ]
  },
  {
   "cell_type": "code",
<<<<<<< HEAD
   "execution_count": 2,
=======
   "execution_count": 22,
>>>>>>> upstream/main
   "metadata": {},
   "outputs": [
    {
     "data": {
      "text/plain": [
       "int"
      ]
     },
<<<<<<< HEAD
     "execution_count": 2,
=======
     "execution_count": 22,
>>>>>>> upstream/main
     "metadata": {},
     "output_type": "execute_result"
    }
   ],
   "source": [
    "type(3)"
   ]
  },
  {
   "cell_type": "code",
<<<<<<< HEAD
   "execution_count": 3,
=======
   "execution_count": 23,
>>>>>>> upstream/main
   "metadata": {},
   "outputs": [
    {
     "data": {
      "text/plain": [
       "float"
      ]
     },
<<<<<<< HEAD
     "execution_count": 3,
=======
     "execution_count": 23,
>>>>>>> upstream/main
     "metadata": {},
     "output_type": "execute_result"
    }
   ],
   "source": [
    "type(3.5)"
   ]
  },
  {
   "cell_type": "code",
<<<<<<< HEAD
   "execution_count": 4,
=======
   "execution_count": 24,
>>>>>>> upstream/main
   "metadata": {},
   "outputs": [
    {
     "data": {
      "text/plain": [
       "str"
      ]
     },
<<<<<<< HEAD
     "execution_count": 4,
=======
     "execution_count": 24,
>>>>>>> upstream/main
     "metadata": {},
     "output_type": "execute_result"
    }
   ],
   "source": [
    "type('hello')"
   ]
  },
  {
   "cell_type": "code",
<<<<<<< HEAD
   "execution_count": 5,
=======
   "execution_count": 25,
>>>>>>> upstream/main
   "metadata": {},
   "outputs": [
    {
     "data": {
      "text/plain": [
       "str"
      ]
     },
<<<<<<< HEAD
     "execution_count": 5,
=======
     "execution_count": 25,
>>>>>>> upstream/main
     "metadata": {},
     "output_type": "execute_result"
    }
   ],
   "source": [
    "# You can define strings with either single or double quotations.\n",
    "type(\"hello\")"
   ]
  },
  {
   "attachments": {},
   "cell_type": "markdown",
   "metadata": {},
   "source": [
    "<font size=\"5\"> \n",
    "\n",
    "Store Variables in memory\n",
    "\n",
    "- Assign variables with \"=\"\n",
    "- Write meaningful names, without spaces\n",
    "- Can use underscore \"_\"\n",
    "- Click \"Variables\" in the top panel of Jupyter Notebooks"
   ]
  },
  {
   "cell_type": "code",
<<<<<<< HEAD
   "execution_count": 4,
=======
   "execution_count": 26,
>>>>>>> upstream/main
   "metadata": {},
   "outputs": [],
   "source": [
    "# Try choosing your names on the left of \"=\"\n",
    "\n",
    "number3        = 3\n",
    "number3andhalf = 3.5\n",
    "message_hello  = \"hello\""
   ]
  },
  {
   "cell_type": "code",
<<<<<<< HEAD
   "execution_count": 5,
=======
   "execution_count": 27,
>>>>>>> upstream/main
   "metadata": {},
   "outputs": [
    {
     "data": {
      "text/plain": [
       "3"
      ]
     },
<<<<<<< HEAD
     "execution_count": 5,
=======
     "execution_count": 27,
>>>>>>> upstream/main
     "metadata": {},
     "output_type": "execute_result"
    }
   ],
   "source": [
    "# You can show the output by writing the name of the variable\n",
    "# Try including different variables\n",
    "\n",
    "number3"
   ]
  },
  {
   "cell_type": "code",
<<<<<<< HEAD
   "execution_count": 6,
=======
   "execution_count": 28,
>>>>>>> upstream/main
   "metadata": {},
   "outputs": [
    {
     "name": "stdout",
     "output_type": "stream",
     "text": [
      "3\n",
      "3.5\n"
     ]
    }
   ],
   "source": [
    "# Jupyter only shows the output for the last object\n",
    "# You can show multiple outputs by using the function \"print\"\n",
    "\n",
    "print(number3)\n",
    "print(number3andhalf)"
   ]
  },
  {
   "attachments": {},
   "cell_type": "markdown",
   "metadata": {},
   "source": [
    "<font size=\"5\"> \n",
    "\n",
    "Basic operations on integers and floats\n",
    "\n",
    "- Addition (+), Multiplication (*), Subtraction (-), Division (/), Exponentiation (**)\n",
    "- If you try this on a string it will not work"
   ]
  },
  {
   "cell_type": "code",
<<<<<<< HEAD
   "execution_count": 1,
=======
   "execution_count": 29,
>>>>>>> upstream/main
   "metadata": {},
   "outputs": [
    {
     "name": "stdout",
     "output_type": "stream",
     "text": [
      "6\n",
      "5\n",
      "1\n",
      "1.5\n",
      "9\n"
     ]
    }
   ],
   "source": [
    "# Basic operations on numbers\n",
    "print(3*2)\n",
    "print(3+2)\n",
    "print(3-2)\n",
    "print(3/2)\n",
    "print(3**2)"
   ]
  },
  {
   "attachments": {},
   "cell_type": "markdown",
   "metadata": {},
   "source": [
    "<font size=\"5\"> \n",
    "\n",
    "Use parenthesis for composite operations"
   ]
  },
  {
   "cell_type": "code",
<<<<<<< HEAD
   "execution_count": 7,
=======
   "execution_count": 30,
>>>>>>> upstream/main
   "metadata": {},
   "outputs": [
    {
     "data": {
      "text/plain": [
       "1.4"
      ]
     },
<<<<<<< HEAD
     "execution_count": 7,
=======
     "execution_count": 30,
>>>>>>> upstream/main
     "metadata": {},
     "output_type": "execute_result"
    }
   ],
   "source": [
    "(3 + 4) / 5"
   ]
  },
  {
   "cell_type": "code",
<<<<<<< HEAD
   "execution_count": 8,
=======
   "execution_count": 31,
>>>>>>> upstream/main
   "metadata": {},
   "outputs": [
    {
     "data": {
      "text/plain": [
       "1.4"
      ]
     },
     "execution_count": 8,
     "metadata": {},
     "output_type": "execute_result"
    }
   ],
   "source": [
    "# Try doing the same with the variable \"number3\" or \"number3andhalf instead.\n",
    "\n",
    "(number3+4)/5\n"
   ]
  },
  {
   "cell_type": "code",
   "execution_count": 9,
   "metadata": {},
   "outputs": [
    {
     "data": {
      "text/plain": [
       "6.5"
      ]
     },
     "execution_count": 9,
     "metadata": {},
     "output_type": "execute_result"
    }
   ],
   "source": [
    "number3 + number3andhalf"
   ]
  },
  {
   "attachments": {},
   "cell_type": "markdown",
   "metadata": {},
   "source": [
    "<font size=\"5\"> \n",
    "\n",
    "Concatenate \"add\" two strings"
   ]
  },
  {
   "cell_type": "code",
<<<<<<< HEAD
   "execution_count": 10,
=======
   "execution_count": 32,
>>>>>>> upstream/main
   "metadata": {},
   "outputs": [
    {
     "data": {
      "text/plain": [
       "'My name is David'"
      ]
     },
<<<<<<< HEAD
     "execution_count": 10,
=======
     "execution_count": 32,
>>>>>>> upstream/main
     "metadata": {},
     "output_type": "execute_result"
    }
   ],
   "source": [
    "# Use the + symbol to concatenate two or more strings\n",
    "# This is very useful to contract strings where one part stays the same,\n",
    "# and the other is a user input.\n",
    "\n",
    "name = \"David\"\n",
    "\n",
    "\"My name is \"  + name"
   ]
  },
  {
   "cell_type": "code",
   "execution_count": 12,
   "metadata": {},
   "outputs": [
    {
     "data": {
      "text/plain": [
       "'My name is Minjoo'"
      ]
     },
     "execution_count": 12,
     "metadata": {},
     "output_type": "execute_result"
    }
   ],
   "source": [
    "name = \"Minjoo\"\n",
    "\"My name is \" + name"
   ]
  },
  {
   "attachments": {},
   "cell_type": "markdown",
   "metadata": {},
   "source": [
    "# <span style=\"color:darkblue\"> Lists </span>"
   ]
  },
  {
   "attachments": {},
   "cell_type": "markdown",
   "metadata": {},
   "source": [
    "<font size=\"5\"> \n",
    "\n",
    "Store Lists\n",
    "\n",
    "- Lists are always denote by square brackets [...]\n",
    "- Elements separated by commas"
   ]
  },
  {
   "cell_type": "code",
<<<<<<< HEAD
   "execution_count": 13,
=======
   "execution_count": 33,
>>>>>>> upstream/main
   "metadata": {},
   "outputs": [],
   "source": [
    "# List of numbers\n",
    "# Example: Suppose you ask 5 people about their favorite color. The results:\n",
    "list_numbers     = [1,2,3,4,5]\n",
    "list_numbers_sqr = [1,4,9,16,25]"
   ]
  },
  {
   "cell_type": "code",
<<<<<<< HEAD
   "execution_count": 14,
=======
   "execution_count": 34,
>>>>>>> upstream/main
   "metadata": {},
   "outputs": [],
   "source": [
    "# List with strings\n",
    "# Example: Suppose you ask 5 people about their favorite color. The results:\n",
    "list_colors = [\"red\",\"yellow\",\"yellow\", \"green\",\"red\"]"
   ]
  },
  {
   "cell_type": "code",
<<<<<<< HEAD
   "execution_count": 15,
=======
   "execution_count": 35,
>>>>>>> upstream/main
   "metadata": {},
   "outputs": [],
   "source": [
    "# List with mixed types\n",
    "list_mixedtype = [\"red\",1,\"yellow\",4,5]"
   ]
  },
  {
   "attachments": {},
   "cell_type": "markdown",
   "metadata": {},
   "source": [
    "<font size=\"5\">\n",
    "\n",
    "Extract individual elements from a list\n",
    "\n",
    "- Use square brackets, e.g. list_colors[2]\n",
    "- Python lists always start at the **ZERO** position\n",
    "\n",
    "\n",
    "<img src=\"figures/house_diagram.png\" alt=\"drawing\" width=\"650\"/>"
   ]
  },
  {
   "cell_type": "code",
<<<<<<< HEAD
   "execution_count": 17,
   "metadata": {},
   "outputs": [
    {
     "name": "stdout",
     "output_type": "stream",
     "text": [
      "ground\n",
      "floor1\n",
      "floor2\n"
     ]
    }
   ],
   "source": [
    "floors_england = [\"ground\",\"floor1\",\"floor2\"]\n",
    "\n",
    "print(floors_england[0])\n",
    "print(floors_england[1])\n",
    "print(floors_england[2])"
=======
   "execution_count": 36,
   "metadata": {},
   "outputs": [
    {
     "data": {
      "text/plain": [
       "'ground'"
      ]
     },
     "execution_count": 36,
     "metadata": {},
     "output_type": "execute_result"
    }
   ],
   "source": [
    "floors_england = [\"ground\", \"floor1\", \"floor2\" ]\n",
    "\n",
    "floors_england[0]"
>>>>>>> upstream/main
   ]
  },
  {
   "cell_type": "code",
<<<<<<< HEAD
   "execution_count": 16,
=======
   "execution_count": 37,
>>>>>>> upstream/main
   "metadata": {},
   "outputs": [
    {
     "name": "stdout",
     "output_type": "stream",
     "text": [
      "red\n",
      "yellow\n",
      "yellow\n",
      "green\n",
      "red\n"
     ]
    }
   ],
   "source": [
    "# Use print to show the output of multiple commands\n",
    "print(list_colors[0])\n",
    "print(list_colors[1])\n",
    "print(list_colors[2])\n",
    "print(list_colors[3])\n",
    "print(list_colors[4])"
   ]
  },
  {
   "cell_type": "code",
<<<<<<< HEAD
   "execution_count": 18,
   "metadata": {},
   "outputs": [
    {
     "name": "stdout",
     "output_type": "stream",
     "text": [
      "H-mart\n"
     ]
    }
   ],
   "source": [
    "# Create list\n",
    "\n",
    "weekends = [\"subway\",\"chinese\",\"H-mart\"]\n",
    "print(weekends[2])"
=======
   "execution_count": 38,
   "metadata": {},
   "outputs": [],
   "source": [
    "# Try creating a list with four elements, and then selecting the third entry\n",
    "\n"
>>>>>>> upstream/main
   ]
  },
  {
   "attachments": {},
   "cell_type": "markdown",
   "metadata": {},
   "source": [
    "# <span style=\"color:darkblue\"> Visualizing Lists </span>"
   ]
  },
  {
   "attachments": {},
   "cell_type": "markdown",
   "metadata": {},
   "source": [
    "<font size=\"5\"> \n",
    "\n",
    "A histogram for categorical data"
   ]
  },
  {
   "cell_type": "code",
<<<<<<< HEAD
   "execution_count": 22,
=======
   "execution_count": 39,
>>>>>>> upstream/main
   "metadata": {},
   "outputs": [
    {
     "data": {
      "text/plain": [
       "(array([2., 0., 0., 0., 0., 2., 0., 0., 0., 1.]),\n",
       " array([0. , 0.2, 0.4, 0.6, 0.8, 1. , 1.2, 1.4, 1.6, 1.8, 2. ]),\n",
       " <BarContainer object of 10 artists>)"
      ]
     },
<<<<<<< HEAD
     "execution_count": 22,
=======
     "execution_count": 39,
>>>>>>> upstream/main
     "metadata": {},
     "output_type": "execute_result"
    },
    {
     "data": {
<<<<<<< HEAD
      "image/png": "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",
=======
      "image/png": "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",
>>>>>>> upstream/main
      "text/plain": [
       "<Figure size 640x480 with 1 Axes>"
      ]
     },
     "metadata": {},
     "output_type": "display_data"
    }
   ],
   "source": [
    "# This creates a histogram with the \"list_colors\"\n",
    "plt.hist(x= list_colors)"
   ]
  },
  {
   "cell_type": "code",
<<<<<<< HEAD
   "execution_count": 24,
=======
   "execution_count": 40,
>>>>>>> upstream/main
   "metadata": {},
   "outputs": [
    {
     "data": {
      "text/plain": [
       "(array([1., 0., 0., 2., 0., 0., 1., 0., 0., 1.]),\n",
       " array([0. , 0.3, 0.6, 0.9, 1.2, 1.5, 1.8, 2.1, 2.4, 2.7, 3. ]),\n",
       " <BarContainer object of 10 artists>)"
      ]
     },
     "execution_count": 24,
     "metadata": {},
     "output_type": "execute_result"
    },
    {
     "data": {
      "image/png": "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",
      "text/plain": [
       "<Figure size 640x480 with 1 Axes>"
      ]
     },
     "metadata": {},
     "output_type": "display_data"
    }
   ],
   "source": [
    "# Creat a list with repeated string values\n",
    "# Compute your own histogram\n",
    "\n",
    "list_dorm = [\"raoul\",\"complex\",\"complex\",\"eagle\",\"clarimont\"]\n",
    "plt.hist(x=list_dorm)"
   ]
  },
  {
   "attachments": {},
   "cell_type": "markdown",
   "metadata": {},
   "source": [
    "<font size=\"5\"> \n",
    "\n",
    "A histogram for continuous data"
   ]
  },
  {
   "cell_type": "code",
<<<<<<< HEAD
   "execution_count": 27,
=======
   "execution_count": 41,
>>>>>>> upstream/main
   "metadata": {},
   "outputs": [
    {
     "data": {
<<<<<<< HEAD
      "text/plain": [
       "Text(0.5, 1.0, 'A graph showing the square of a list of numbers')"
      ]
     },
     "execution_count": 27,
     "metadata": {},
     "output_type": "execute_result"
    },
    {
     "data": {
      "image/png": "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",
=======
      "image/png": "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",
>>>>>>> upstream/main
      "text/plain": [
       "<Figure size 640x480 with 1 Axes>"
      ]
     },
     "metadata": {},
     "output_type": "display_data"
    }
   ],
   "source": [
    "plt.scatter(x = list_numbers, y = list_numbers_sqr)\n",
<<<<<<< HEAD
    "\n",
    "plt.xlabel(\"List of numbers\")\n",
    "plt.ylabel(\"List of numbers squared\")\n",
    "plt.title(\"A graph showing the square of a list of numbers\")"
=======
    "plt.xlabel(\"A meaningful name for the X-axis\")\n",
    "plt.ylabel(\"Favourite name for Y-axis\")\n",
    "plt.show()"
>>>>>>> upstream/main
   ]
  },
  {
   "cell_type": "code",
   "execution_count": 42,
   "metadata": {},
   "outputs": [],
   "source": [
    "# Create a list with numbers, then create your own scatter plot\n",
    "\n",
    "plt.scatter(x= ,y= )\n"
   ]
  },
  {
   "attachments": {},
   "cell_type": "markdown",
   "metadata": {},
   "source": [
    "# <span style=\"color:darkblue\"> Additional Resources </span>\n",
    "\n",
    "<font size=\"5\"> \n",
    "\n",
    "Check out additional examples at:\n",
    "\n",
    "- https://allendowney.github.io/ElementsOfDataScience/01_variables.html\n",
    "- https://allendowney.github.io/ElementsOfDataScience/03_arrays.html\n",
    "\n"
   ]
  },
  {
   "attachments": {},
   "cell_type": "markdown",
   "metadata": {},
   "source": [
    "# <span style=\"color:darkblue\"> (Optional) Common Pitfalls </span>\n",
    "\n",
    "<font size=\"5\"> \n",
    "\n",
    "It's very common to enter a command incorrectly\n",
    "- There will be an arrow pointing to the problematic line\n",
    "- Focus on the message following \"NameError\""
   ]
  },
  {
   "attachments": {},
   "cell_type": "markdown",
   "metadata": {},
   "source": [
    "<font size=\"5\"> \n",
    "\n",
    "Pro Tip:\n",
    "- Type in google the message for \"NameError\" plus the word Python\n",
    "- Somebody may have a solution/explanation!"
   ]
  },
  {
   "attachments": {},
   "cell_type": "markdown",
   "metadata": {},
   "source": [
    "<font size=\"5\"> \n",
    "\n",
    "Example 1: Not including quotations"
   ]
  },
  {
   "cell_type": "code",
<<<<<<< HEAD
   "execution_count": 32,
=======
   "execution_count": 44,
>>>>>>> upstream/main
   "metadata": {},
   "outputs": [
    {
     "ename": "NameError",
     "evalue": "name 'hello' is not defined",
     "output_type": "error",
     "traceback": [
      "\u001b[0;31m---------------------------------------------------------------------------\u001b[0m",
      "\u001b[0;31mNameError\u001b[0m                                 Traceback (most recent call last)",
<<<<<<< HEAD
      "Cell \u001b[0;32mIn[32], line 3\u001b[0m\n\u001b[1;32m      1\u001b[0m \u001b[39m# When you don't include quotation marks,\u001b[39;00m\n\u001b[1;32m      2\u001b[0m \u001b[39m# Python will try to search for a variable called Hello\u001b[39;00m\n\u001b[0;32m----> 3\u001b[0m \u001b[39mtype\u001b[39m(hello)\n",
=======
      "Cell \u001b[0;32mIn[44], line 3\u001b[0m\n\u001b[1;32m      1\u001b[0m \u001b[39m# When you don't include quotation marks,\u001b[39;00m\n\u001b[1;32m      2\u001b[0m \u001b[39m# Python will try to search for a variable called Hello\u001b[39;00m\n\u001b[0;32m----> 3\u001b[0m \u001b[39mtype\u001b[39m(hello)\n",
>>>>>>> upstream/main
      "\u001b[0;31mNameError\u001b[0m: name 'hello' is not defined"
     ]
    }
   ],
   "source": [
    "# When you don't include quotation marks,\n",
    "# Python will try to search for a variable called Hello\n",
    "type(hello)"
   ]
  },
  {
   "cell_type": "code",
<<<<<<< HEAD
   "execution_count": 35,
   "metadata": {},
   "outputs": [
    {
     "name": "stdout",
     "output_type": "stream",
     "text": [
      "<class 'str'>\n",
      "<class 'str'>\n"
     ]
=======
   "execution_count": 45,
   "metadata": {},
   "outputs": [
    {
     "data": {
      "text/plain": [
       "str"
      ]
     },
     "execution_count": 45,
     "metadata": {},
     "output_type": "execute_result"
>>>>>>> upstream/main
    }
   ],
   "source": [
    "# This commands works if we already defined a variable, e.g.\n",
    "print(type(message_hello))\n",
    "print(type(\"hello\"))"
   ]
  },
  {
   "attachments": {},
   "cell_type": "markdown",
   "metadata": {},
   "source": [
    "<font size=\"5\"> \n",
    "\n",
    "Examples 2: Operations with mixed types don't work"
   ]
  },
  {
   "cell_type": "code",
<<<<<<< HEAD
   "execution_count": 36,
=======
   "execution_count": 46,
>>>>>>> upstream/main
   "metadata": {},
   "outputs": [
    {
     "ename": "TypeError",
     "evalue": "can only concatenate str (not \"int\") to str",
     "output_type": "error",
     "traceback": [
      "\u001b[0;31m---------------------------------------------------------------------------\u001b[0m",
      "\u001b[0;31mTypeError\u001b[0m                                 Traceback (most recent call last)",
<<<<<<< HEAD
      "Cell \u001b[0;32mIn[36], line 2\u001b[0m\n\u001b[1;32m      1\u001b[0m \u001b[39m# If you add a number and a string you get a concatenated string\u001b[39;00m\n\u001b[0;32m----> 2\u001b[0m \u001b[39mprint\u001b[39m(\u001b[39m\"\u001b[39;49m\u001b[39mhola\u001b[39;49m\u001b[39m\"\u001b[39;49m \u001b[39m+\u001b[39;49m number3)\n",
=======
      "Cell \u001b[0;32mIn[46], line 2\u001b[0m\n\u001b[1;32m      1\u001b[0m \u001b[39m# If you add a number and a string you get a concatenated string\u001b[39;00m\n\u001b[0;32m----> 2\u001b[0m \u001b[39mprint\u001b[39m(\u001b[39m\"\u001b[39;49m\u001b[39mhola\u001b[39;49m\u001b[39m\"\u001b[39;49m \u001b[39m+\u001b[39;49m number3)\n",
>>>>>>> upstream/main
      "\u001b[0;31mTypeError\u001b[0m: can only concatenate str (not \"int\") to str"
     ]
    }
   ],
   "source": [
    "# If you add a number and a string you get a concatenated string\n",
    "print(\"hola\" + number3)"
   ]
  },
  {
   "cell_type": "code",
<<<<<<< HEAD
   "execution_count": 40,
=======
   "execution_count": 47,
>>>>>>> upstream/main
   "metadata": {},
   "outputs": [
    {
     "name": "stdout",
     "output_type": "stream",
     "text": [
      "hola3\n"
     ]
    }
   ],
   "source": [
    "# You can convert an integer to string first\n",
    "print(\"hola\" + str(number3))"
   ]
  },
  {
   "attachments": {},
   "cell_type": "markdown",
   "metadata": {},
   "source": [
    "<font size=\"5\"> \n",
    "\n",
    "Examples 3: Not all mathematical operations on numeric lists work\n",
    "\n",
    "- We need a different object: arrays!\n",
    "- We'll look into this in future classes"
   ]
  },
  {
   "cell_type": "code",
<<<<<<< HEAD
   "execution_count": 49,
   "metadata": {},
   "outputs": [
    {
     "name": "stdout",
     "output_type": "stream",
     "text": [
      "[1, 2, 3, 4, 5]\n"
     ]
    },
    {
     "ename": "TypeError",
     "evalue": "unsupported operand type(s) for ** or pow(): 'list' and 'int'",
=======
   "execution_count": 63,
   "metadata": {},
   "outputs": [
    {
     "ename": "TypeError",
     "evalue": "unsupported operand type(s) for /: 'list' and 'int'",
>>>>>>> upstream/main
     "output_type": "error",
     "traceback": [
      "\u001b[0;31m---------------------------------------------------------------------------\u001b[0m",
      "\u001b[0;31mTypeError\u001b[0m                                 Traceback (most recent call last)",
<<<<<<< HEAD
      "Cell \u001b[0;32mIn[49], line 3\u001b[0m\n\u001b[1;32m      1\u001b[0m \u001b[39m# You can convert an integer to string first\u001b[39;00m\n\u001b[1;32m      2\u001b[0m \u001b[39mprint\u001b[39m(list_numbers)\n\u001b[0;32m----> 3\u001b[0m list_numbers \u001b[39m*\u001b[39;49m\u001b[39m*\u001b[39;49m \u001b[39m2\u001b[39;49m\n",
      "\u001b[0;31mTypeError\u001b[0m: unsupported operand type(s) for ** or pow(): 'list' and 'int'"
=======
      "Cell \u001b[0;32mIn[63], line 1\u001b[0m\n\u001b[0;32m----> 1\u001b[0m list_numbers \u001b[39m/\u001b[39;49m \u001b[39m2\u001b[39;49m\n",
      "\u001b[0;31mTypeError\u001b[0m: unsupported operand type(s) for /: 'list' and 'int'"
>>>>>>> upstream/main
     ]
    }
   ],
   "source": [
<<<<<<< HEAD
    "# You can convert an integer to string first\n",
    "print(list_numbers)\n",
    "list_numbers ** 2"
=======
    "list_numbers / 2"
>>>>>>> upstream/main
   ]
  }
 ],
 "metadata": {
  "kernelspec": {
   "display_name": "Python 3",
   "language": "python",
   "name": "python3"
  },
  "language_info": {
   "codemirror_mode": {
    "name": "ipython",
    "version": 3
   },
   "file_extension": ".py",
   "mimetype": "text/x-python",
   "name": "python",
   "nbconvert_exporter": "python",
   "pygments_lexer": "ipython3",
   "version": "3.11.1 (v3.11.1:a7a450f84a, Dec  6 2022, 15:24:06) [Clang 13.0.0 (clang-1300.0.29.30)]"
  },
  "orig_nbformat": 4,
  "vscode": {
   "interpreter": {
    "hash": "aee8b7b246df8f9039afb4144a1f6fd8d2ca17a180786b69acc140d282b71a49"
   }
  }
 },
 "nbformat": 4,
 "nbformat_minor": 2
}
